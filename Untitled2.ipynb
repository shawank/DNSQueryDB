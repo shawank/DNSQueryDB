{
 "cells": [
  {
   "cell_type": "code",
   "execution_count": 4,
   "metadata": {},
   "outputs": [
    {
     "name": "stdout",
     "output_type": "stream",
     "text": [
      "<class 'str'>\n",
      "Task no 0\n",
      "<class 'str'>\n",
      "<class 'str'>\n",
      "Task no 2\n",
      "Task no 1\n",
      "<class 'str'>\n",
      "Task no 3\n",
      "<class 'str'>\n",
      "Task no 4\n",
      "<class 'str'>\n",
      "Task no 5\n",
      "<class 'str'>\n",
      "<class 'str'>\n",
      "Task no 6\n",
      "Task no 7\n",
      "<class 'str'>\n",
      "Task no 8\n",
      "<class 'str'>\n",
      "Task no 9\n",
      "Task no 0 is done by Process-13\n",
      "Task no 2 is done by Process-15\n",
      "Task no 1 is done by Process-14\n",
      "Task no 3 is done by Process-16\n",
      "Task no 4 is done by Process-13\n",
      "Task no 5 is done by Process-15\n",
      "Task no 6 is done by Process-14\n",
      "Task no 7 is done by Process-16\n",
      "Task no 8 is done by Process-13\n",
      "Task no 9 is done by Process-15\n"
     ]
    }
   ],
   "source": [
    "from multiprocessing import Lock, Process, Queue, current_process\n",
    "import time\n",
    "import queue\n",
    "\n",
    "def do_job(tasks_to_accomplish, tasks_that_are_done):\n",
    "    while True:\n",
    "        try:\n",
    "            task = tasks_to_accomplish.get_nowait()\n",
    "            print(type(task))\n",
    "        except queue.Empty:\n",
    "\n",
    "            break\n",
    "        else:\n",
    "            print(task)\n",
    "            tasks_that_are_done.put(task + ' is done by ' + current_process().name)\n",
    "            time.sleep(5)\n",
    "    return True\n",
    "\n",
    "\n",
    "def main():\n",
    "    number_of_task = 10\n",
    "    number_of_processes = 4\n",
    "    tasks_to_accomplish = Queue()\n",
    "    tasks_that_are_done = Queue()\n",
    "    processes = []\n",
    "\n",
    "    for i in range(number_of_task):\n",
    "        tasks_to_accomplish.put(\"Task no \" + str(i))\n",
    "\n",
    "    # creating processes\n",
    "    for w in range(number_of_processes):\n",
    "        p = Process(target=do_job, args=(tasks_to_accomplish, tasks_that_are_done))\n",
    "        processes.append(p)\n",
    "        p.start()\n",
    "\n",
    "    # completing process\n",
    "    for p in processes:\n",
    "        p.join()\n",
    "\n",
    "    # print the output\n",
    "    while not tasks_that_are_done.empty():\n",
    "        print(tasks_that_are_done.get())\n",
    "\n",
    "    return True\n",
    "\n",
    "\n",
    "if __name__ == '__main__':\n",
    "    main()"
   ]
  }
 ],
 "metadata": {
  "kernelspec": {
   "display_name": "Python 3",
   "language": "python",
   "name": "python3"
  },
  "language_info": {
   "codemirror_mode": {
    "name": "ipython",
    "version": 3
   },
   "file_extension": ".py",
   "mimetype": "text/x-python",
   "name": "python",
   "nbconvert_exporter": "python",
   "pygments_lexer": "ipython3",
   "version": "3.6.3"
  }
 },
 "nbformat": 4,
 "nbformat_minor": 2
}
