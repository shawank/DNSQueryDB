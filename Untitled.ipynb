{
 "cells": [
  {
   "cell_type": "code",
   "execution_count": 4,
   "metadata": {},
   "outputs": [
    {
     "ename": "TypeError",
     "evalue": "'module' object is not callable",
     "output_type": "error",
     "traceback": [
      "\u001b[0;31m---------------------------------------------------------------------------\u001b[0m",
      "\u001b[0;31mTypeError\u001b[0m                                 Traceback (most recent call last)",
      "\u001b[0;32m<ipython-input-4-b99ff46de3db>\u001b[0m in \u001b[0;36m<module>\u001b[0;34m()\u001b[0m\n\u001b[1;32m     32\u001b[0m             \u001b[0mprojection\u001b[0m\u001b[0;34m=\u001b[0m\u001b[0;34m'merc'\u001b[0m\u001b[0;34m,\u001b[0m\u001b[0;34m\u001b[0m\u001b[0m\n\u001b[1;32m     33\u001b[0m             \u001b[0mresolution\u001b[0m \u001b[0;34m=\u001b[0m \u001b[0;34m'h'\u001b[0m\u001b[0;34m,\u001b[0m\u001b[0;34m\u001b[0m\u001b[0m\n\u001b[0;32m---> 34\u001b[0;31m             \u001b[0marea_thresh\u001b[0m\u001b[0;34m=\u001b[0m\u001b[0;36m10000.\u001b[0m\u001b[0;34m,\u001b[0m\u001b[0;34m\u001b[0m\u001b[0m\n\u001b[0m\u001b[1;32m     35\u001b[0m             )\n\u001b[1;32m     36\u001b[0m \u001b[0mm\u001b[0m\u001b[0;34m.\u001b[0m\u001b[0mdrawcoastlines\u001b[0m\u001b[0;34m(\u001b[0m\u001b[0;34m)\u001b[0m\u001b[0;34m\u001b[0m\u001b[0m\n",
      "\u001b[0;31mTypeError\u001b[0m: 'module' object is not callable"
     ]
    }
   ],
   "source": [
    "import matplotlib.pyplot as plt\n",
    "# from mpl_toolkits.mpl_toolkits import mpl_toolkits\n",
    "import mpl_toolkits\n",
    "import pandas as pd\n",
    "import io\n",
    "\n",
    "u = u\"\"\"latitude,longitude\n",
    "42.357778,-71.059444\n",
    "39.952222,-75.163889\n",
    "25.787778,-80.224167\n",
    "30.267222, -97.763889\"\"\"\n",
    "\n",
    "# read in data to use for plotted points\n",
    "buildingdf = pd.read_csv(io.StringIO(u), delimiter=\",\")\n",
    "lat = buildingdf['latitude'].values\n",
    "lon = buildingdf['longitude'].values\n",
    "\n",
    "# determine range to print based on min, max lat and lon of the data\n",
    "margin = 2 # buffer to add to the range\n",
    "lat_min = min(lat) - margin\n",
    "lat_max = max(lat) + margin\n",
    "lon_min = min(lon) - margin\n",
    "lon_max = max(lon) + margin\n",
    "\n",
    "# create map using mpl_toolkits\n",
    "m = mpl_toolkits(llcrnrlon=lon_min,\n",
    "            llcrnrlat=lat_min,\n",
    "            urcrnrlon=lon_max,\n",
    "            urcrnrlat=lat_max,\n",
    "            lat_0=(lat_max - lat_min)/2,\n",
    "            lon_0=(lon_max-lon_min)/2,\n",
    "            projection='merc',\n",
    "            resolution = 'h',\n",
    "            area_thresh=10000.,\n",
    "            )\n",
    "m.drawcoastlines()\n",
    "m.drawcountries()\n",
    "m.drawstates()\n",
    "m.drawmapboundary(fill_color='#46bcec')\n",
    "m.fillcontinents(color = 'white',lake_color='#46bcec')\n",
    "# convert lat and lon to map projection coordinates\n",
    "lons, lats = m(lon, lat)\n",
    "# plot points as red dots\n",
    "m.scatter(lons, lats, marker = 'o', color='r', zorder=5)\n",
    "plt.show()"
   ]
  },
  {
   "cell_type": "code",
   "execution_count": 5,
   "metadata": {},
   "outputs": [
    {
     "data": {
      "text/plain": [
       "['__doc__', '__loader__', '__name__', '__package__', '__path__', '__spec__']"
      ]
     },
     "execution_count": 5,
     "metadata": {},
     "output_type": "execute_result"
    }
   ],
   "source": [
    "dir(mpl_toolkits)"
   ]
  },
  {
   "cell_type": "code",
   "execution_count": 6,
   "metadata": {},
   "outputs": [
    {
     "name": "stdout",
     "output_type": "stream",
     "text": [
      "posix\n"
     ]
    }
   ],
   "source": [
    "import os\n",
    "print(os.name)"
   ]
  },
  {
   "cell_type": "code",
   "execution_count": 8,
   "metadata": {},
   "outputs": [
    {
     "ename": "SyntaxError",
     "evalue": "invalid token (<ipython-input-8-cc75c68cc117>, line 14)",
     "output_type": "error",
     "traceback": [
      "\u001b[0;36m  File \u001b[0;32m\"<ipython-input-8-cc75c68cc117>\"\u001b[0;36m, line \u001b[0;32m14\u001b[0m\n\u001b[0;31m    job = sched.add_job(my_job, next_run_time = datetime(2015, 5, 11, 1, 05, 5), args = ['Hello World!'])\u001b[0m\n\u001b[0m                                                                          ^\u001b[0m\n\u001b[0;31mSyntaxError\u001b[0m\u001b[0;31m:\u001b[0m invalid token\n"
     ]
    }
   ],
   "source": [
    "from datetime import date\n",
    "from apscheduler.schedulers.background import BackgroundScheduler as Scheduler\n",
    "from datetime import datetime\n",
    "\n",
    "# Start the scheduler\n",
    "sched = Scheduler()\n",
    "sched.start()\n",
    "\n",
    "# Define the function that is to be executed\n",
    "def my_job(text):\n",
    "    print (text)\n",
    "\n",
    "#Schedule job\n",
    "job = sched.add_job(my_job, next_run_time = datetime(2015, 5, 11, 1, 05, 5), args = ['Hello World!'])"
   ]
  },
  {
   "cell_type": "code",
   "execution_count": 10,
   "metadata": {},
   "outputs": [],
   "source": [
    "import datetime\n"
   ]
  },
  {
   "cell_type": "code",
   "execution_count": 13,
   "metadata": {},
   "outputs": [
    {
     "ename": "AttributeError",
     "evalue": "type object 'datetime.time' has no attribute 'now'",
     "output_type": "error",
     "traceback": [
      "\u001b[0;31m---------------------------------------------------------------------------\u001b[0m",
      "\u001b[0;31mAttributeError\u001b[0m                            Traceback (most recent call last)",
      "\u001b[0;32m<ipython-input-13-59054e0106c7>\u001b[0m in \u001b[0;36m<module>\u001b[0;34m()\u001b[0m\n\u001b[1;32m      1\u001b[0m \u001b[0;34m\u001b[0m\u001b[0m\n\u001b[0;32m----> 2\u001b[0;31m \u001b[0mdatetime\u001b[0m\u001b[0;34m.\u001b[0m\u001b[0mtime\u001b[0m\u001b[0;34m.\u001b[0m\u001b[0mnow\u001b[0m\u001b[0;34m(\u001b[0m\u001b[0;34m)\u001b[0m\u001b[0;34m\u001b[0m\u001b[0m\n\u001b[0m",
      "\u001b[0;31mAttributeError\u001b[0m: type object 'datetime.time' has no attribute 'now'"
     ]
    }
   ],
   "source": [
    "\n",
    "datetime.time.now()"
   ]
  },
  {
   "cell_type": "code",
   "execution_count": 14,
   "metadata": {},
   "outputs": [
    {
     "ename": "SyntaxError",
     "evalue": "Missing parentheses in call to 'print'. Did you mean print(int text)? (<ipython-input-14-44c25b3792a9>, line 11)",
     "output_type": "error",
     "traceback": [
      "\u001b[0;36m  File \u001b[0;32m\"<ipython-input-14-44c25b3792a9>\"\u001b[0;36m, line \u001b[0;32m11\u001b[0m\n\u001b[0;31m    print text\u001b[0m\n\u001b[0m             ^\u001b[0m\n\u001b[0;31mSyntaxError\u001b[0m\u001b[0;31m:\u001b[0m Missing parentheses in call to 'print'. Did you mean print(int text)?\n"
     ]
    }
   ],
   "source": [
    "from datetime import date\n",
    "from apscheduler.schedulers.background import BackgroundScheduler as Scheduler\n",
    "import datetime\n",
    "\n",
    "# Start the scheduler\n",
    "sched = Scheduler()\n",
    "sched.start()\n",
    "\n",
    "# Define the function that is to be executed\n",
    "def my_job(text):\n",
    "    print (text)\n",
    "\n",
    "#Schedule job\n",
    "def checkAt(sec)\n",
    "job = sched.add_job(my_job, next_run_time = datetime.datetime.now() + datetime.timedelta(seconds = sec) , args = ['Hello World!'])\n"
   ]
  },
  {
   "cell_type": "code",
   "execution_count": 19,
   "metadata": {},
   "outputs": [
    {
     "name": "stdout",
     "output_type": "stream",
     "text": [
      "2018-01-29 00:43:59.568741\n",
      "2018-01-29 00:44:13.568741\n"
     ]
    }
   ],
   "source": [
    "import datetime\n",
    "z = datetime.datetime.now()\n",
    "print(z)\n",
    "print(z + datetime.timedelta(seconds = 14))"
   ]
  },
  {
   "cell_type": "code",
   "execution_count": 23,
   "metadata": {},
   "outputs": [
    {
     "name": "stdout",
     "output_type": "stream",
     "text": [
      "/Users/admin/Documents/NUS/DNSQueryDB\r\n"
     ]
    }
   ],
   "source": [
    "!pwd\n"
   ]
  },
  {
   "cell_type": "code",
   "execution_count": null,
   "metadata": {},
   "outputs": [],
   "source": []
  }
 ],
 "metadata": {
  "kernelspec": {
   "display_name": "Python 3",
   "language": "python",
   "name": "python3"
  },
  "language_info": {
   "codemirror_mode": {
    "name": "ipython",
    "version": 3
   },
   "file_extension": ".py",
   "mimetype": "text/x-python",
   "name": "python",
   "nbconvert_exporter": "python",
   "pygments_lexer": "ipython3",
   "version": "3.6.3"
  }
 },
 "nbformat": 4,
 "nbformat_minor": 2
}
