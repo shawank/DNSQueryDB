{
 "cells": [
  {
   "cell_type": "code",
   "execution_count": 2,
   "metadata": {},
   "outputs": [
    {
     "name": "stdout",
     "output_type": "stream",
     "text": [
      "{\n",
      "    \"4\": 5,\n",
      "    \"6\": 7\n",
      "}\n"
     ]
    }
   ],
   "source": [
    "import json\n",
    "print (json.dumps({'4': 5, '6': 7}, sort_keys=True, indent=4))"
   ]
  },
  {
   "cell_type": "code",
   "execution_count": 32,
   "metadata": {},
   "outputs": [
    {
     "name": "stdout",
     "output_type": "stream",
     "text": [
      "['www.google.com']\n",
      "['www.yahoo.com']\n"
     ]
    }
   ],
   "source": [
    "import csv\n",
    "import subprocess\n",
    "import re\n",
    "import json\n",
    "\n",
    "with open('domainlist.csv', 'r+') as fr:\n",
    "    storage_format = 'json'\n",
    "    entriesTitle = ['Domain Name Returned', 'TTL', 'Unknown', 'Query Type', 'IP address']\n",
    "    if (storage_format == 'csv'):\n",
    "        output_file = 'database.csv'\n",
    "    elif(storage_format == 'json'):\n",
    "        output_file = 'database.json'\n",
    "    with open(output_file, 'w+') as fw:\n",
    "        \n",
    "        if (storage_format == 'csv'):\n",
    "            writer = csv.writer(fw, quotechar='|', quoting=csv.QUOTE_MINIMAL)\n",
    "            \n",
    "            writer.writerow(['Domain Queried', 'Answer Type'] + entriesTitle)\n",
    "        domain = fr.readline()\n",
    "        j = 1\n",
    "        while (domain):\n",
    "            temp = re.findall(r',([\\w\\.]+)', domain)\n",
    "            print(temp)\n",
    "            domain = temp[0]\n",
    "            result = subprocess.run(['dig', '+nocmd', '+noquestion', 'ANY', domain], stdout = subprocess.PIPE)\n",
    "            str = result.stdout.decode(\"UTF-8\")\n",
    "            # pos_answer = findnth(str,\"ANSWER\", 1)\n",
    "            # # print(pos_answer)\n",
    "            # str_temp = str\n",
    "            # pos_authority = findnth(str, \"AUTHORITY\", 1, offset = 103)\n",
    "            # # print(pos_authority)\n",
    "            # pos_additional = findnth(str, \"ADDITIONAL\", 1, offset = pos_authority)\n",
    "            # # regex = re.compile(r'SECTION:\\s+()')\n",
    "            match = re.findall(r'.+(?!SECTION)', str)\n",
    "            length = len(match)\n",
    "            i = 0\n",
    "            if (storage_format == 'csv'):\n",
    "                while (i < length):\n",
    "                    if (re.search(r':$', match[i])):\n",
    "                        temp = re.search(r'(\\w+):$', match[i])\n",
    "                        if (temp.groups(1) == 'answer'):\n",
    "                            break\n",
    "                        element = re.findall(r'([\\w\\s]*):', match[i])\n",
    "                        answer_type = element[0]\n",
    "                        i += 1\n",
    "                        while(re.search(r'^[^;]', match[i]) != None):\n",
    "                            element = re.findall(r'([\\w+\\.:]+)\\.?\\t?', match[i])\n",
    "\n",
    "                            element = [j] + [domain] + [answer_type] + element\n",
    "                            writer.writerow(element)\n",
    "#                             json.dump(element, fw)\n",
    "                            i += 1\n",
    "                            if (i == length):\n",
    "                                break\n",
    "                        i -= 1\n",
    "\n",
    "                    i += 1\n",
    "            if (storage_format == 'json'):\n",
    "                while (i < length):\n",
    "                    section_dict = {} \n",
    "                    if (re.search(r':$', match[i])):\n",
    "                        temp = re.search(r'(\\w+):$', match[i])\n",
    "                        if (temp.groups(1) == 'answer'):\n",
    "                            break\n",
    "                        element = re.findall(r'([\\w\\s]*):', match[i])\n",
    "                        answer_type = element[0]\n",
    "                        i += 1\n",
    "                        element_list = []\n",
    "                        while(re.search(r'^[^;]', match[i]) != None):\n",
    "                            element = re.findall(r'([\\w+\\.:]+)\\.?\\t?', match[i])\n",
    "    #                         writer.writerow(element)\n",
    "#                             json.dump(element, fw)\n",
    "                            element = dict(zip(entriesTitle, element))\n",
    "                            element_list.append(element)\n",
    "                            i += 1\n",
    "#                             if (i == length):\n",
    "#                                 break\n",
    "#                             section_list.a\n",
    "                        i -= 1\n",
    "                    section_dict[answer_type] = element_list\n",
    "                    i += 1\n",
    "            j += 1\n",
    "            json.dump({domain: section_dict}, fw)\n",
    "            domain = fr.readline()\n"
   ]
  },
  {
   "cell_type": "code",
   "execution_count": 24,
   "metadata": {},
   "outputs": [],
   "source": [
    "import json\n",
    "with open('data.txt', 'w') as outfile:\n",
    "    data ={\n",
    "   'name' : 'ACME',\n",
    "   'shares' : 100,\n",
    "   'price' : 542.23\n",
    "}\n",
    "    json.dump(data, outfile)"
   ]
  },
  {
   "cell_type": "code",
   "execution_count": 14,
   "metadata": {},
   "outputs": [],
   "source": [
    "temp = re.findall(r',([\\w\\.]+)', '1,google.com')"
   ]
  },
  {
   "cell_type": "code",
   "execution_count": 15,
   "metadata": {},
   "outputs": [
    {
     "name": "stdout",
     "output_type": "stream",
     "text": [
      "['google.com']\n"
     ]
    }
   ],
   "source": [
    "print(temp)"
   ]
  },
  {
   "cell_type": "code",
   "execution_count": null,
   "metadata": {},
   "outputs": [],
   "source": []
  }
 ],
 "metadata": {
  "kernelspec": {
   "display_name": "Python 3",
   "language": "python",
   "name": "python3"
  },
  "language_info": {
   "codemirror_mode": {
    "name": "ipython",
    "version": 3
   },
   "file_extension": ".py",
   "mimetype": "text/x-python",
   "name": "python",
   "nbconvert_exporter": "python",
   "pygments_lexer": "ipython3",
   "version": "3.6.3"
  }
 },
 "nbformat": 4,
 "nbformat_minor": 2
}
